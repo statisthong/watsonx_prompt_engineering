{
    "cells": [
        {
            "cell_type": "markdown",
            "metadata": {},
            "source": "![image](https://raw.githubusercontent.com/IBM/watson-machine-learning-samples/master/cloud/notebooks/headers/watsonx-Prompt_Lab-Notebook.png)\n# Prompt Notebook - Prompt Lab Notebook v1.1.0\nThis notebook contains steps and code to demonstrate inferencing of prompts\ngenerated in Prompt Lab in watsonx.ai. It introduces Python API commands\nfor authentication using API key and prompt inferencing using WML API.\n\n**Note:** Notebook code generated using Prompt Lab will execute successfully.\nIf code is modified or reordered, there is no guarantee it will successfully execute.\nFor details, see: [Saving your work in Prompt Lab as a notebook](/docs).\n\nSome familiarity with Python is helpful. This notebook uses Python 3.10.\n\n## Notebook goals\nThe learning goals of this notebook are:\n\n* Defining a Python function for obtaining credentials from the IBM Cloud personal API key\n* Defining parameters of the Model object\n* Using the Model object to generate response using the defined model id, parameters and the prompt input\n\n# Setup"
        },
        {
            "cell_type": "markdown",
            "metadata": {},
            "source": "## watsonx API connection\nThis cell defines the credentials required to work with watsonx API for Foundation\nModel inferencing.\n\n**Action:** Provide the IBM Cloud personal API key. For details, see\n[documentation](https://cloud.ibm.com/docs/account?topic=account-userapikey&interface=ui).\n"
        },
        {
            "cell_type": "code",
            "execution_count": null,
            "metadata": {},
            "outputs": [],
            "source": "import os\nimport getpass\n\ndef get_credentials():\n\treturn {\n\t\t\"url\" : \"https://us-south.ml.cloud.ibm.com\",\n\t\t\"apikey\" : getpass.getpass(\"Please enter your api key (hit enter): \")\n\t}\n"
        },
        {
            "cell_type": "markdown",
            "metadata": {},
            "source": "# Inferencing\nThis cell demonstrated how we can use the model object as well as the created access token\nto pair it with parameters and input string to obtain\nthe response from the the selected foundation model.\n\n## Defining the model id\nWe need to specify model id that will be used for inferencing:\n"
        },
        {
            "cell_type": "code",
            "execution_count": null,
            "metadata": {},
            "outputs": [],
            "source": "model_id = \"meta-llama/llama-2-70b-chat\"\n"
        },
        {
            "cell_type": "markdown",
            "metadata": {},
            "source": "## Defining the model parameters\nWe need to provide a set of model parameters that will influence the\nresult:"
        },
        {
            "cell_type": "code",
            "execution_count": null,
            "metadata": {},
            "outputs": [],
            "source": "parameters = {\n    \"decoding_method\": \"greedy\",\n    \"max_new_tokens\": 900,\n    \"repetition_penalty\": 1.1\n}"
        },
        {
            "cell_type": "markdown",
            "metadata": {},
            "source": "## Defining the project id or space id\nThe API requires project id or space id that provides the context for the call. We will obtain\nthe id from the project or space in which this notebook runs:"
        },
        {
            "cell_type": "code",
            "execution_count": null,
            "metadata": {},
            "outputs": [],
            "source": "project_id = None\nspace_id = None\ntry: \n    project_id = os.environ[\"PROJECT_ID\"]\nexcept KeyError:\n\tpass\ntry: \n\tspace_id = os.environ[\"SPACE_ID\"]\nexcept KeyError:\n\tpass\n"
        },
        {
            "cell_type": "markdown",
            "metadata": {},
            "source": "## Defining the Model object\nWe need to define the Model object using the properties we defined so far:\n"
        },
        {
            "cell_type": "code",
            "execution_count": null,
            "metadata": {},
            "outputs": [],
            "source": "from ibm_watson_machine_learning.foundation_models import Model\n\nmodel = Model(\n\tmodel_id = model_id,\n\tparams = parameters,\n\tcredentials = get_credentials(),\n\tproject_id = project_id,\n\tspace_id = space_id\n\t)\n"
        },
        {
            "cell_type": "markdown",
            "metadata": {},
            "source": "## Defining the inferencing input\nFoundation model inferencing API accepts a natural language input that it will use\nto provide the natural language response. The API is sensitive to formatting. Input\nstructure, presence of training steps (one-shot, two-shot learning etc.), as well\nas phrasing all influence the final response and belongs to the emerging discipline of\nPrompt Engineering.\n\nLet us provide the input we got from the Prompt Lab:"
        },
        {
            "cell_type": "code",
            "execution_count": null,
            "metadata": {},
            "outputs": [],
            "source": "prompt_input = \"\"\"\uac00\uc774\ub4dc: \n\uacfc\uc81c: \uc8fc\uc5b4\uc9c4 \ubb38\ub2e8\uc5d0\uc11c \uac1c\uc778\uc2dd\ubcc4\uc815\ubcf4(PII)\ub97c \ucd94\ucd9c\ud558\uc138\uc694. \uc608\uc2dc\uc640 \uac19\uc740 \ud615\uc2dd\uc73c\ub85c \uc0ac\uc6a9\uc790 \uc815\ubcf4\ub97c \ucd94\ucd9c\ud558\uc138\uc694.\n\n\uc608\uc2dc: \n\uc0ac\uc6a9\uc790 \uba58\uc158: \"\ub274\uc695\uc758 \uc740\ud589\uc5d0\uc11c \ub0b4 \uc804\ud654\ub85c $100\uc744 \uc778\ucd9c\ud588\uc2b5\ub2c8\ub2e4. (345) 123-7867. \uc778\uc0ac\ub97c \uc804\ud569\ub2c8\ub2e4, Raj\" \n\uc0ac\uc6a9\uc790 \uc815\ubcf4: \n\uc774\ub984: Raj\n\uae08\uc561: $100 \n\uc704\uce58: \ub274\uc695 \n\uc804\ud654\ubc88\ud638: (345) 123-7867 \n\n\uc608\uc2dc: \n\uc0ac\uc6a9\uc790 \uba58\uc158: \"\uc81c \uc2e0\uc6a9\uce74\ub4dc\uac00 \ud574\uc678 \ud734\uac00 \uc911\uc5d0 \ucde8\uc18c\ub418\uc5c8\uc2b5\ub2c8\ub2e4. \uc81c \uc2e0\uc6a9\uce74\ub4dc \ubc88\ud638\ub294 39482374859\uc774\uace0, \uacc4\uc815 \uc774\ub984\uc740 Phil Smith\uc774\uba70, \uc8fc\uc18c\ub294 34 Cityvale, Melbourne, 3000\uc785\ub2c8\ub2e4. \uc5f0\ub77d\ubc1b\uae30 \uc6d0\ud558\ub294 \ubc29\uc2dd\uc740 \uc774\uba54\uc77c\uc785\ub2c8\ub2e4: phil.smith@email.com.\" \n\uc0ac\uc6a9\uc790 \uc815\ubcf4: \n\uc774\ub984: Phil Smith\n\uc2e0\uc6a9\uce74\ub4dc\ubc88\ud638: 39482374859 \n\uc704\uce58: 34 Cityvale, Melbourne 3000 \n\uc774\uba54\uc77c\uc8fc\uc18c: phil.smith@email.com\n\n\ud14c\uc2a4\ud2b8: \n\uc0ac\uc6a9\uc790 \uba58\uc158: \"\uc548\ub155\ud558\uc138\uc694, \uc81c \uc774\ub984\uc740 Ravi Dube\uc785\ub2c8\ub2e4. \uc81c \uc2e0\uc6a9\uce74\ub4dc \uc624\ub958 \uac70\ub798 \ub0b4\uc5ed\uc744 \ubcf4\uace0\ud558\uae30 \uc704\ud574 \uae00\uc744 \uc501\ub2c8\ub2e4. 2023\ub144 3\uc6d4 30\uc77c, \uc800\ub294 \ucd5c\uadfc $1,000\uc758 \uccad\uad6c\ub97c \uc81c \uc2e0\uc6a9\uce74\ub4dc \uba85\uc138\uc11c\uc5d0\uc11c \ubc1c\uacac\ud588\uc2b5\ub2c8\ub2e4. \uc774 \uac70\ub798\ub294 \ub274\uc695\uc758 \ud55c \uc2dd\ub2f9\uc5d0\uc11c \uc774\ub8e8\uc5b4\uc84c\ub294\ub370, \uadf8\ub0a0 \uc800\ub294 \ub2e4\ub978 \uacf3\uc5d0 \uc788\uc5c8\uc2b5\ub2c8\ub2e4. \uc81c \uacc4\uc815\uc758 \ubcf4\uc548\uc5d0 \ub300\ud574 \uac71\uc815\ub418\uba70, \uc774 \uc0ac\uc548\uc744 \uc2e0\uc18d\ud788 \uc870\uc0ac\ud574 \uc8fc\uc2dc\uba74 \uac10\uc0ac\ud558\uaca0\uc2b5\ub2c8\ub2e4. \uc81c \uc804\ud654\ubc88\ud638 (123)456-7890 \ub610\ub294 ravi.dube@email.com\uc73c\ub85c \uc774\uba54\uc77c\uc744 \ubcf4\ub0b4 \uc800\uc5d0\uac8c \uc0c1\ud669\uc744 \uc54c\ub824\uc8fc\uc2dc\uae30 \ubc14\ub78d\ub2c8\ub2e4. \uc81c \uc2e0\uc6a9\uce74\ub4dc \ubc88\ud638\ub294 3572267594198019\uc774\uace0, \uc81c \uc0ac\ud68c\ubcf4\uc7a5\ubc88\ud638\ub294 175-43-9027\uc785\ub2c8\ub2e4. \uace7 \uc5f0\ub77d \ubc1b\uae30\ub97c \uae30\ub300\ud569\ub2c8\ub2e4.\" \n\uc0ac\uc6a9\uc790 \uc815\ubcf4:\n\uc774\ub984:\"\"\"\n"
        },
        {
            "cell_type": "markdown",
            "metadata": {},
            "source": "## Execution\nLet us now use the defined Model object and pair it with input and\ngenerate the response:"
        },
        {
            "cell_type": "code",
            "execution_count": null,
            "metadata": {},
            "outputs": [],
            "source": "print(\"Submitting generation request...\")\ngenerated_response = model.generate_text(prompt=prompt_input)\nprint(generated_response)"
        },
        {
            "cell_type": "markdown",
            "metadata": {},
            "source": "# Next steps\nYou successfully completed this notebook! You learned how to use\nwatsonx.ai inferencing SDK to generate response from the foundation model\nbased on the provided input, model id and model parameters. Check out the\nofficial watsonx.ai site for more samples, tutorials, documentation, how-tos, and blog posts.\n\n<a id=\"copyrights\"></a>\n### Copyrights\n\nLicensed Materials - Copyright \u00a9 2023 IBM. This notebook and its source code are released under the terms of the ILAN License.\nUse, duplication disclosure restricted by GSA ADP Schedule Contract with IBM Corp.\n\n**Note:** The auto-generated notebooks are subject to the International License Agreement for Non-Warranted Programs (or equivalent) and License Information document for watsonx.ai Auto-generated Notebook (License Terms), such agreements located in the link below. Specifically, the Source Components and Sample Materials clause included in the License Information document for Watson Studio Auto-generated Notebook applies to the auto-generated notebooks.  \n\nBy downloading, copying, accessing, or otherwise using the materials, you agree to the <a href=\"https://www14.software.ibm.com/cgi-bin/weblap/lap.pl?li_formnum=L-AMCU-BYC7LF\">License Terms</a>  "
        }
    ],
    "metadata": {
        "kernelspec": {
            "display_name": "Python 3.10",
            "language": "python",
            "name": "python3"
        },
        "language_info": {
            "codemirror_mode": {
                "name": "ipython",
                "version": 3
            },
            "file_extension": ".py",
            "mimetype": "text/x-python",
            "name": "python",
            "nbconvert_exporter": "python",
            "pygments_lexer": "ipython3",
            "version": "3.10.13"
        }
    },
    "nbformat": 4,
    "nbformat_minor": 1
}