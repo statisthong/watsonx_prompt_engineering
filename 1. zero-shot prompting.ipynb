{
    "cells": [
        {
            "cell_type": "markdown",
            "metadata": {},
            "source": "![image](https://raw.githubusercontent.com/IBM/watson-machine-learning-samples/master/cloud/notebooks/headers/watsonx-Prompt_Lab-Notebook.png)\n# Prompt Notebook - Prompt Lab Notebook v1.1.0\nThis notebook contains steps and code to demonstrate inferencing of prompts\ngenerated in Prompt Lab in watsonx.ai. It introduces Python API commands\nfor authentication using API key and prompt inferencing using WML API.\n\n**Note:** Notebook code generated using Prompt Lab will execute successfully.\nIf code is modified or reordered, there is no guarantee it will successfully execute.\nFor details, see: [Saving your work in Prompt Lab as a notebook](/docs).\n\nSome familiarity with Python is helpful. This notebook uses Python 3.10.\n\n## Notebook goals\nThe learning goals of this notebook are:\n\n* Defining a Python function for obtaining credentials from the IBM Cloud personal API key\n* Defining parameters of the Model object\n* Using the Model object to generate response using the defined model id, parameters and the prompt input\n\n# Setup"
        },
        {
            "cell_type": "markdown",
            "metadata": {},
            "source": "## watsonx API connection\nThis cell defines the credentials required to work with watsonx API for Foundation\nModel inferencing.\n\n**Action:** Provide the IBM Cloud personal API key. For details, see\n[documentation](https://cloud.ibm.com/docs/account?topic=account-userapikey&interface=ui).\n"
        },
        {
            "cell_type": "code",
            "execution_count": null,
            "metadata": {},
            "outputs": [],
            "source": "import os\nimport getpass\n\ndef get_credentials():\n\treturn {\n\t\t\"url\" : \"https://us-south.ml.cloud.ibm.com\",\n\t\t\"apikey\" : getpass.getpass(\"Please enter your api key (hit enter): \")\n\t}\n"
        },
        {
            "cell_type": "markdown",
            "metadata": {},
            "source": "# Inferencing\nThis cell demonstrated how we can use the model object as well as the created access token\nto pair it with parameters and input string to obtain\nthe response from the the selected foundation model.\n\n## Defining the model id\nWe need to specify model id that will be used for inferencing:\n"
        },
        {
            "cell_type": "code",
            "execution_count": null,
            "metadata": {},
            "outputs": [],
            "source": "model_id = \"meta-llama/llama-2-70b-chat\"\n"
        },
        {
            "cell_type": "markdown",
            "metadata": {},
            "source": "## Defining the model parameters\nWe need to provide a set of model parameters that will influence the\nresult:"
        },
        {
            "cell_type": "code",
            "execution_count": null,
            "metadata": {},
            "outputs": [],
            "source": "parameters = {\n    \"decoding_method\": \"greedy\",\n    \"max_new_tokens\": 900,\n    \"repetition_penalty\": 1.1\n}"
        },
        {
            "cell_type": "markdown",
            "metadata": {},
            "source": "## Defining the project id or space id\nThe API requires project id or space id that provides the context for the call. We will obtain\nthe id from the project or space in which this notebook runs:"
        },
        {
            "cell_type": "code",
            "execution_count": null,
            "metadata": {},
            "outputs": [],
            "source": "project_id = None\nspace_id = None\ntry: \n    project_id = os.environ[\"PROJECT_ID\"]\nexcept KeyError:\n\tpass\ntry: \n\tspace_id = os.environ[\"SPACE_ID\"]\nexcept KeyError:\n\tpass\n"
        },
        {
            "cell_type": "markdown",
            "metadata": {},
            "source": "## Defining the Model object\nWe need to define the Model object using the properties we defined so far:\n"
        },
        {
            "cell_type": "code",
            "execution_count": null,
            "metadata": {},
            "outputs": [],
            "source": "from ibm_watson_machine_learning.foundation_models import Model\n\nmodel = Model(\n\tmodel_id = model_id,\n\tparams = parameters,\n\tcredentials = get_credentials(),\n\tproject_id = project_id,\n\tspace_id = space_id\n\t)\n"
        },
        {
            "cell_type": "markdown",
            "metadata": {},
            "source": "## Defining the inferencing input\nFoundation model inferencing API accepts a natural language input that it will use\nto provide the natural language response. The API is sensitive to formatting. Input\nstructure, presence of training steps (one-shot, two-shot learning etc.), as well\nas phrasing all influence the final response and belongs to the emerging discipline of\nPrompt Engineering.\n\nLet us provide the input we got from the Prompt Lab:"
        },
        {
            "cell_type": "code",
            "execution_count": null,
            "metadata": {},
            "outputs": [],
            "source": "prompt_input = \"\"\"\uac00\uc774\ub4dc: \n\uc8fc\uc5b4\uc9c4 \ubcf8\ubb38\uc744 \uc77d\uace0 \uc774\ud574\ud55c \ub2e4\uc74c, \uc2e0\uc6a9\uce74\ub4dc, \uc2e0\uc6a9\ud3c9\uac00, mortgage\uc640 \ub300\ucd9c, \uc18c\ub9e4\uae08\uc735\uc5c5, \ucc44\uad8c\ucd94\uc2ec \uc911 \uc5b4\ub5a4 \uc720\ud615\uc5d0 \ub300\ud55c \ubd88\ub9cc\uc744 \ubcf4\uc774\ub294 \uae00\uc778\uc9c0 \ubd84\ub958\ud574\uc918. \ub300\ub2f5\uc740 \ubc18\ub4dc\uc2dc \ud55c\uad6d\uc5b4\ub85c \ud574\uc918. \uac00\uc774\ub4dc\uc5d0 \ub530\ub77c \uc6d0\ud558\ub294 \uacb0\uacfc\ub97c \ucd9c\ub825\ud574\uc918.\n\n\ubcf8\ubb38: \n\uc800\ub294 \uc218\ub144\uac04 Wells Fargo\uc758 \ubaa8\uae30\uc9c0\ub97c \uac00\uc9c0\uace0 \uc788\uc5c8\uc2b5\ub2c8\ub2e4. \ub9e4\ub2ec \uc57d 7-10\uc77c \uc77c\ucc0d \ub0a9\ubd80\ud569\ub2c8\ub2e4. XX/XX/XXXX\ubd80\ud130 XX/XX/XXXX\uae4c\uc9c0 \ub9e4\ub2ec {$3000.00}\ub97c \uc9c0\ubd88\ud588\uc2b5\ub2c8\ub2e4. XXXX\ub144\uc5d0 Wells Fargo\uc5d0\uc11c \uc804\ud654\uac00 \uc640\uc11c \uc81c \uc6d4\ubcc4 \uc9c0\ubd88\uc561\uc774 \uc798\ubabb\ub418\uc5c8\ub2e4\uace0 \ud569\ub2c8\ub2e4. \uae34 \ud1a0\ub860 \ub05d\uc5d0 \uacc4\uc815\uc744 \ud604\uc7ac \uc0c1\ud0dc\ub85c \uc720\uc9c0\ud558\uace0 \uc55e\uc73c\ub85c $ XXXX\ub97c \uc9c0\ubd88\ud558\uae30\ub85c \ub3d9\uc758\ud588\uc2b5\ub2c8\ub2e4. XX/XX/XXXX\uc5d0 XXXX\uc5d0\uc11c \ubaa8\uae30\uc9c0\uac00 \ucc44\ubb34 \ubd88\uc774\ud589 \uc0c1\ud0dc\uc5d0 \uc788\ub2e4\ub294 \ud3b8\uc9c0\ub97c \ubc1b\uc558\uc73c\uba70 \uc989\uc2dc \uc870\uce58\ub97c \ucde8\ud558\ub77c\uace0 \uad8c\uace0\ud569\ub2c8\ub2e4. \uae34 \ud1a0\ub860 \ub05d\uc5d0 XX/XX/XXXX\uc5d0 \uc740\ud589\uc774 \ud3c9\uc18c\ucc98\ub7fc \uc81c \uc9c0\ubd88\uae08\uc744 \ubc1b\uc558\uc9c0\ub9cc \uadf8 \uae08\uc561\uc774 \uc6d0\ud558\ub294 \uac83\ubcf4\ub2e4 \uc801\uc5b4\uc11c \ubaa8\uae30\uc9c0\ub97c \uc9c0\ubd88\ud558\uc9c0 \uc54a\uc558\ub2e4\ub294 \uac83\uc744 \ub9c8\uce68\ub0b4 \ubc1c\uacac\ud588\uc2b5\ub2c8\ub2e4. \ub300\uc2e0 \uc804\uc561\uc744 \uc6d0\uae08\uc5d0 \uc801\uc6a9\ud588\uc2b5\ub2c8\ub2e4. \uadf8\ub4e4\uc740 \uc800\uc5d0\uac8c \uc54c\ub9ac\uc9c0 \uc54a\uc558\uc2b5\ub2c8\ub2e4. \uadf8\ub4e4\uc740 \uc2e0\uc6a9 \uae30\uad00\uc5d0 \uc800\ub97c \ubcf4\uace0\ud558\uace0 \uc788\uc73c\uba70, \uc800\ub294 \uacb0\uc81c\ud558\uc9c0 \uc54a\uc558\ub2e4\uace0 \uc8fc\uc7a5\ud558\uba70 \uc555\ub958 \uc704\ud611\uc744 \ud558\uace0 \uc788\uc2b5\ub2c8\ub2e4. \uc0ac\uc2e4 \uc800\ub294 \uacb0\uc81c\ub97c \ub193\uce5c \uc801\ub3c4 \ub2a6\uac8c \ud55c \uc801\ub3c4 \uc5c6\uc2b5\ub2c8\ub2e4. \uadf8\ub4e4\uc740 \uc800\uc5d0\uac8c \uadf8\ub807\uac8c \ud588\uace0 \uc2ec\uc9c0\uc5b4 \uc800\uc5d0\uac8c \uc54c\ub9ac\uc9c0\ub3c4 \uc54a\uc558\uc2b5\ub2c8\ub2e4. \uc65c \uadf8\ub4e4\uc740 \uc800\uc5d0\uac8c \uc804\ud654\ub97c \ud558\uc9c0 \uc54a\uc558\uc744\uae4c\uc694? \uadf8\ub4e4\uc740 20\ub144 \ub3d9\uc548 \uc11c\ube44\uc2a4\uac00 \uc911\ub2e8\ub41c \ud55c \ubc88\ud638\ub97c \ud3ec\ud568\ud558\uc5ec \ub450 \ubc88\ud638\ub97c \ud30c\uc77c\uc5d0 \uac00\uc9c0\uace0 \uc788\uc5c8\uc2b5\ub2c8\ub2e4. \uadf8\ub4e4\uc740 \ub2e4\ub978 \ubc88\ud638\ub85c \uc804\ud654\ub97c \ud558\uc9c0 \uc54a\uc558\uc2b5\ub2c8\ub2e4. \uc800\ub294 XXXX\uc5d0 \uc81c\uac00 \uc804\ud654\ub85c \uc5f0\ub77d\ud55c \uc80a\uc740\uc774\uac00 \uc800\uc5d0\uac8c \uc804\ud654\ub97c \uac78 \uc218 \uc788\uc5c8\ub2e4\ub294 \uac83\uc744 \uc54c\uace0 \uc788\uc2b5\ub2c8\ub2e4. \uc65c \ud3b8\uc9c0\ub294 \uc544\ub2cc\uac00\uc694? \uc65c \uadf8\ub4e4\uc740 \uc800\uc5d0\uac8c \uc774\ub7f0 \uc77c\uc744 \ud558\ub294 \uac78\uae4c\uc694? \ucef4\ud4e8\ud130\uac00 \uadf8\ub7ac\uc2b5\ub2c8\ub2e4. \uc65c \uadf8\ub4e4\uc740 \uace0\uce58\ub7ec \ub3cc\uc544\uac00\uc9c0 \uc54a\ub098\uc694? \ub108\ubb34 \uc624\ub798 \uc804\uc774\uc5c8\uc2b5\ub2c8\ub2e4. \uc62c\ud574 13\ubc88\uc9f8 \ubaa8\uae30\uc9c0 \uc9c0\ubd88\uc744 \ud558\uc9c0 \uc54a\uc73c\uba74 \uc555\ub958\uc5d0 \uc9c1\uba74\ud574\uc57c \ud569\ub2c8\ub2e4. \uadf8\ub4e4\uc740 \uc800\ub97c \uc18d\uc774\uace0 \uc788\uc2b5\ub2c8\ub2e4. \ub2f9\uc2e0\uc740 \uc740\ud589\uc744 \uc2e0\ub8b0\ud560 \uc218 \uc788\ub2e4\uace0 \uc0dd\uac01\ud560 \uac83\uc785\ub2c8\ub2e4\ub9cc, \uc774\uc81c \uc800\ub294 \uadf8\uac83\uc774 \uc0ac\uc2e4\uc774 \uc544\ub2c8\ub77c\ub294 \uac83\uc744 \uae68\ub2ec\uc558\uc2b5\ub2c8\ub2e4. \uc800\ub294 XXXX \uc0b4\uc785\ub2c8\ub2e4. \uc544\ub9c8\ub3c4 \uadf8\ub798\uc11c \uadf8\ub4e4\uc740 \uc774 \uc815\ucc45\uc744 \ucd94\uad6c\ud558\ub294 \uac83\uc77c\uc9c0\ub3c4 \ubaa8\ub985\ub2c8\ub2e4.\uc800\ub294 \uc774 \ubb38\uc81c\ub97c \ud574\uacb0\ud558\ub824\"\"\"\n"
        },
        {
            "cell_type": "markdown",
            "metadata": {},
            "source": "## Execution\nLet us now use the defined Model object and pair it with input and\ngenerate the response:"
        },
        {
            "cell_type": "code",
            "execution_count": null,
            "metadata": {},
            "outputs": [],
            "source": "print(\"Submitting generation request...\")\ngenerated_response = model.generate_text(prompt=prompt_input)\nprint(generated_response)"
        },
        {
            "cell_type": "markdown",
            "metadata": {},
            "source": "# Next steps\nYou successfully completed this notebook! You learned how to use\nwatsonx.ai inferencing SDK to generate response from the foundation model\nbased on the provided input, model id and model parameters. Check out the\nofficial watsonx.ai site for more samples, tutorials, documentation, how-tos, and blog posts.\n\n<a id=\"copyrights\"></a>\n### Copyrights\n\nLicensed Materials - Copyright \u00a9 2023 IBM. This notebook and its source code are released under the terms of the ILAN License.\nUse, duplication disclosure restricted by GSA ADP Schedule Contract with IBM Corp.\n\n**Note:** The auto-generated notebooks are subject to the International License Agreement for Non-Warranted Programs (or equivalent) and License Information document for watsonx.ai Auto-generated Notebook (License Terms), such agreements located in the link below. Specifically, the Source Components and Sample Materials clause included in the License Information document for Watson Studio Auto-generated Notebook applies to the auto-generated notebooks.  \n\nBy downloading, copying, accessing, or otherwise using the materials, you agree to the <a href=\"https://www14.software.ibm.com/cgi-bin/weblap/lap.pl?li_formnum=L-AMCU-BYC7LF\">License Terms</a>  "
        }
    ],
    "metadata": {
        "kernelspec": {
            "display_name": "Python 3.10",
            "language": "python",
            "name": "python3"
        }
    },
    "nbformat": 4,
    "nbformat_minor": 0
}